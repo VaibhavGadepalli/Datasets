{
  "cells": [
    {
      "cell_type": "markdown",
      "metadata": {
        "id": "view-in-github",
        "colab_type": "text"
      },
      "source": [
        "<a href=\"https://colab.research.google.com/github/VaibhavGadepalli/Datasets/blob/main/I04.ipynb\" target=\"_parent\"><img src=\"https://colab.research.google.com/assets/colab-badge.svg\" alt=\"Open In Colab\"/></a>"
      ]
    },
    {
      "cell_type": "code",
      "source": [
        "import torch\n",
        "torch.__version__"
      ],
      "metadata": {
        "id": "ynume_Pv8Gzm",
        "outputId": "60fc5b8d-9122-4187-e7e2-0bb875bff4f1",
        "colab": {
          "base_uri": "https://localhost:8080/",
          "height": 36
        }
      },
      "execution_count": null,
      "outputs": [
        {
          "output_type": "execute_result",
          "data": {
            "text/plain": [
              "'1.13.1+cu116'"
            ],
            "application/vnd.google.colaboratory.intrinsic+json": {
              "type": "string"
            }
          },
          "metadata": {},
          "execution_count": 2
        }
      ]
    },
    {
      "cell_type": "code",
      "source": [
        "print(\"Cuda Current Device: \", torch.cuda.current_device()) \n",
        "print(\"Cuda Device Count: \", torch.cuda.device_count()) \n",
        "print(\"Cuda Device Name: \", torch.cuda.get_device_name(0)) \n",
        "print(\"Cuda Device Available : \", torch.cuda.is_available()) "
      ],
      "metadata": {
        "colab": {
          "base_uri": "https://localhost:8080/"
        },
        "id": "Jm-kiWgPh-Ot",
        "outputId": "11a909f3-8c5c-43f3-ce53-8d98fde475af"
      },
      "execution_count": null,
      "outputs": [
        {
          "output_type": "stream",
          "name": "stdout",
          "text": [
            "Cuda Current Device:  0\n",
            "Cuda Device Count:  1\n",
            "Cuda Device Name:  Tesla T4\n",
            "Cuda Device Available :  True\n"
          ]
        }
      ]
    },
    {
      "cell_type": "markdown",
      "metadata": {
        "id": "A-hWoX3H216t"
      },
      "source": [
        "\n",
        "# Training a Classifier\n",
        "\n",
        "Assumption: You know how to define neural networks, compute loss and make updates to the weights of the network.\n",
        "\n",
        "## Data\n",
        "\n",
        "Generally, when you deal with image, text, audio or video data, you can use standard python packages that load data into a numpy array. Then you can convert this array into a ``torch.*Tensor``.\n",
        "\n",
        "-  For images, packages such as Pillow, OpenCV are useful\n",
        "-  For audio, packages such as scipy and librosa\n",
        "-  For text, either raw Python or Cython based loading, or NLTK and\n",
        "   SpaCy are useful\n",
        "\n",
        "Specifically for vision, we have a package called ``torchvision``, that has data loaders for common datasets such as ImageNet, CIFAR10, MNIST, etc. and data transformers for images, viz. ``torchvision.datasets`` and ``torch.utils.data.DataLoader``.\n",
        "\n",
        "This makes it convenient to get data and avoid writing boilerplate code.\n",
        "\n",
        "We will use the CIFAR10 dataset. It has the classes: ‘airplane’, ‘automobile’, ‘bird’, ‘cat’, ‘deer’, ‘dog’, ‘frog’, ‘horse’, ‘ship’, ‘truck’. The images in CIFAR-10 are of size 3x32x32, i.e. 3-channel color images of 32x32 pixels in size.\n",
        "\n",
        "\n",
        "## Training an image classifier\n",
        "\n",
        "We will do the following steps in order:\n",
        "\n",
        "1. Load and normalize the CIFAR10 training and test datasets using\n",
        "   ``torchvision``\n",
        "2. Define a Convolutional Neural Network\n",
        "3. Define a loss function\n",
        "4. Train the network on the training data\n",
        "5. Test the network on the test data\n",
        "\n",
        "### 1. Load and normalize CIFAR10\n",
        "\n",
        "Using ``torchvision``, it’s extremely easy to load CIFAR10.\n"
      ]
    },
    {
      "cell_type": "code",
      "execution_count": null,
      "metadata": {
        "id": "19km-kL8216v"
      },
      "outputs": [],
      "source": [
        "import torch\n",
        "import torchvision\n",
        "import torchvision.transforms as transforms"
      ]
    },
    {
      "cell_type": "markdown",
      "metadata": {
        "id": "Js3Q-CWO216v"
      },
      "source": [
        "The output of torchvision datasets are PILImage images of range [0, 1].\n",
        "We transform them to Tensors of normalized range [-1, 1].\n",
        "\n"
      ]
    },
    {
      "cell_type": "markdown",
      "metadata": {
        "id": "cKKMEl2b216w"
      },
      "source": [
        "<div class=\"alert alert-info\"><h4>Note</h4><p>If running on Windows and you get a BrokenPipeError, try setting\n",
        "    the num_worker of torch.utils.data.DataLoader() to 0.</p></div>\n",
        "\n"
      ]
    },
    {
      "cell_type": "code",
      "execution_count": null,
      "metadata": {
        "colab": {
          "base_uri": "https://localhost:8080/",
          "height": 104,
          "referenced_widgets": [
            "7295dac00f6845f7a82261cdb31af9cc",
            "1b3eebf6af0c45fbbbb88aa96f8d9011",
            "fb6c8be5632f4c1eabcc49771fafbe87",
            "041de5fa72104f2fb98a8576dd19fa78",
            "133510a9bde94f2d93ea22090d089136",
            "c6129bc1fede4e13a362249aa9ff5e88",
            "3f4851abbaaa4f9480521dbb899640ee",
            "20565e1531e24cc9b102668ca85dc9c6",
            "65d9907cd0de4716884ed11fe3e4e029",
            "cb87c32cab4c465e8ee6875afab14ac8",
            "300c53d009db4db1abc5a27313601066"
          ]
        },
        "id": "hGpvqQ9M216w",
        "outputId": "69601885-f14b-48ef-c149-4b0f59b62e84"
      },
      "outputs": [
        {
          "output_type": "stream",
          "name": "stdout",
          "text": [
            "Downloading https://www.cs.toronto.edu/~kriz/cifar-10-python.tar.gz to ./data/cifar-10-python.tar.gz\n"
          ]
        },
        {
          "output_type": "display_data",
          "data": {
            "text/plain": [
              "  0%|          | 0/170498071 [00:00<?, ?it/s]"
            ],
            "application/vnd.jupyter.widget-view+json": {
              "version_major": 2,
              "version_minor": 0,
              "model_id": "7295dac00f6845f7a82261cdb31af9cc"
            }
          },
          "metadata": {}
        },
        {
          "output_type": "stream",
          "name": "stdout",
          "text": [
            "Extracting ./data/cifar-10-python.tar.gz to ./data\n",
            "Files already downloaded and verified\n"
          ]
        }
      ],
      "source": [
        "transform = transforms.Compose(\n",
        "    [transforms.ToTensor(),\n",
        "     transforms.Normalize((0.5, 0.5, 0.5), (0.5, 0.5, 0.5))])\n",
        "\n",
        "batch_size = 4\n",
        "\n",
        "trainset = torchvision.datasets.CIFAR10(root='./data', train=True,\n",
        "                                        download=True, transform=transform)\n",
        "trainloader = torch.utils.data.DataLoader(trainset, batch_size=batch_size,\n",
        "                                          shuffle=True, num_workers=2)\n",
        "\n",
        "testset = torchvision.datasets.CIFAR10(root='./data', train=False,\n",
        "                                       download=True, transform=transform)\n",
        "testloader = torch.utils.data.DataLoader(testset, batch_size=batch_size,\n",
        "                                         shuffle=False, num_workers=2)\n",
        "\n",
        "classes = ('plane', 'car', 'bird', 'cat',\n",
        "           'deer', 'dog', 'frog', 'horse', 'ship', 'truck')"
      ]
    },
    {
      "cell_type": "markdown",
      "metadata": {
        "id": "qRx7eaIj216x"
      },
      "source": [
        "Let us view some of the training images\n",
        "\n"
      ]
    },
    {
      "cell_type": "code",
      "execution_count": null,
      "metadata": {
        "colab": {
          "base_uri": "https://localhost:8080/",
          "height": 156
        },
        "id": "6whuBsJ2216x",
        "outputId": "76708fce-73b5-4a6b-aeb2-b28bbaa8f3b0"
      },
      "outputs": [
        {
          "output_type": "display_data",
          "data": {
            "text/plain": [
              "<Figure size 432x288 with 1 Axes>"
            ],
            "image/png": "[encoded data removed]"
          },
          "metadata": {
            "needs_background": "light"
          }
        },
        {
          "output_type": "stream",
          "name": "stdout",
          "text": [
            "dog   frog  frog  horse\n"
          ]
        }
      ],
      "source": [
        "import matplotlib.pyplot as plt\n",
        "import numpy as np\n",
        "\n",
        "# functions to show an image\n",
        "\n",
        "\n",
        "def imshow(img):\n",
        "    img = img * 0.5 + 0.5     # unnormalize\n",
        "    npimg = img.numpy()\n",
        "    plt.imshow(np.transpose(npimg, (1, 2, 0)))\n",
        "    plt.show()\n",
        "\n",
        "\n",
        "# get some random training images\n",
        "dataiter = iter(trainloader)\n",
        "images, labels = next(dataiter)\n",
        "\n",
        "# show images\n",
        "imshow(torchvision.utils.make_grid(images))\n",
        "# print labels\n",
        "print(' '.join(f'{classes[labels[j]]:5s}' for j in range(batch_size)))"
      ]
    },
    {
      "cell_type": "markdown",
      "metadata": {
        "id": "CCHoHIx3216y"
      },
      "source": [
        "### 2. Define a Convolutional Neural Network\n",
        "Create a neural network to take 3-channel images.\n",
        "\n"
      ]
    },
    {
      "cell_type": "code",
      "execution_count": null,
      "metadata": {
        "id": "tgmKSzXx216y"
      },
      "outputs": [],
      "source": [
        "import torch.nn as nn\n",
        "import torch.nn.functional as F\n",
        "\n",
        "\n",
        "class Net(nn.Module):\n",
        "    def __init__(self):\n",
        "        super().__init__()\n",
        "        kernel_size = 5\n",
        "        self.conv1 = nn.Conv2d(3, 6, kernel_size) #(Input Channel, Output Channel, Kernel)\n",
        "        self.pool = nn.MaxPool2d(2, 2) # (kernel, stride)\n",
        "        self.conv2 = nn.Conv2d(6, 16, kernel_size)\n",
        "        self.fc1 = nn.Linear(16 * kernel_size * kernel_size, 120) # Flatten the image\n",
        "        self.fc2 = nn.Linear(120, 10)\n",
        "        self.fc3 = nn.Linear(84, 10)\n",
        "\n",
        "    def forward(self, x):\n",
        "        x = self.pool(F.relu(self.conv1(x)))\n",
        "        x = self.pool(F.relu(self.conv2(x)))\n",
        "        x = torch.flatten(x, 1) # flatten all dimensions except batch\n",
        "        x = F.relu(self.fc1(x))\n",
        "        x = F.relu(self.fc2(x))\n",
        "        x = self.fc3(x)\n",
        "        return x\n",
        "\n",
        "\n",
        "net = Net()"
      ]
    },
    {
      "cell_type": "code",
      "source": [
        "# Explanation of layers calculations\n",
        "O_conv1 = (32 - 5 + 0) /  1 + 1 # (Image_dimension -  Kernel + Padding) / Stride + 1\n",
        "O_pool1 = O_conv1 // 2 # Pool halfs the dimension\n",
        "O_conv2 = (O_pool1 - 5 + 0) /  1 + 1 # (Image_dimension -  Kernel + Padding) / Stride + 1\n",
        "O_fcl1 = O_conv2 // 2\n",
        "O_conv1, O_pool1, O_conv2, O_fcl1\n"
      ],
      "metadata": {
        "colab": {
          "base_uri": "https://localhost:8080/"
        },
        "id": "H4JdaeWKSPtf",
        "outputId": "22b141af-8db1-4a0d-b811-db055817be22"
      },
      "execution_count": null,
      "outputs": [
        {
          "output_type": "execute_result",
          "data": {
            "text/plain": [
              "(28.0, 14.0, 10.0, 5.0)"
            ]
          },
          "metadata": {},
          "execution_count": 8
        }
      ]
    },
    {
      "cell_type": "markdown",
      "metadata": {
        "id": "86pUQgK4216z"
      },
      "source": [
        "### 3. Choose a Loss function and optimizer\n",
        "Let us use classification cross - entropy loss and Stochastic Gradient Descent (SGD) with momentum.\n",
        "\n"
      ]
    },
    {
      "cell_type": "code",
      "execution_count": null,
      "metadata": {
        "id": "F68liFwF216z"
      },
      "outputs": [],
      "source": [
        "import torch.optim as optim\n",
        "\n",
        "criterion = nn.CrossEntropyLoss()\n",
        "optimizer = optim.SGD(net.parameters(), lr=0.001, momentum=0.9)"
      ]
    },
    {
      "cell_type": "markdown",
      "metadata": {
        "id": "uEMyMtih216z"
      },
      "source": [
        "### 4. Train the network\n",
        "\n",
        "This is when things start to get interesting.\n",
        "We simply have to loop over our data iterator, and feed the inputs to the\n",
        "network and optimize.\n",
        "\n"
      ]
    },
    {
      "cell_type": "code",
      "execution_count": null,
      "metadata": {
        "colab": {
          "base_uri": "https://localhost:8080/"
        },
        "id": "fDTolwxa2160",
        "outputId": "85256556-5627-4a4b-d835-cc9387a4c1b8"
      },
      "outputs": [
        {
          "output_type": "stream",
          "name": "stdout",
          "text": [
            "[1,  2000] loss: 2.221\n",
            "[1,  4000] loss: 1.857\n",
            "[1,  6000] loss: 1.663\n",
            "[1,  8000] loss: 1.568\n",
            "[1, 10000] loss: 1.501\n",
            "[1, 12000] loss: 1.471\n",
            "[2,  2000] loss: 1.387\n",
            "[2,  4000] loss: 1.368\n",
            "[2,  6000] loss: 1.346\n",
            "[2,  8000] loss: 1.322\n",
            "[2, 10000] loss: 1.282\n",
            "[2, 12000] loss: 1.295\n",
            "Finished Training\n"
          ]
        }
      ],
      "source": [
        "for epoch in range(2):  # loop over the dataset multiple times\n",
        "\n",
        "    running_loss = 0.0\n",
        "    for i, data in enumerate(trainloader, 0):\n",
        "        # get the inputs; data is a list of [inputs, labels]\n",
        "        inputs, labels = data\n",
        "\n",
        "        # set the parameter gradients to zero\n",
        "        optimizer.zero_grad()\n",
        "\n",
        "        # forward + backward + optimize\n",
        "        outputs = net(inputs)\n",
        "        loss = criterion(outputs, labels)\n",
        "        loss.backward()\n",
        "        optimizer.step()\n",
        "\n",
        "        # print statistics\n",
        "        running_loss += loss.item()\n",
        "        if i % 2000 == 1999:    # print every 2000 mini-batches\n",
        "            print(f'[{epoch + 1}, {i + 1:5d}] loss: {running_loss / 2000:.3f}')\n",
        "            running_loss = 0.0\n",
        "\n",
        "print('Finished Training')"
      ]
    },
    {
      "cell_type": "markdown",
      "metadata": {
        "id": "DPm9NUat2160"
      },
      "source": [
        "## Save the trained model\n",
        "Let's save our trained model:\n",
        "\n"
      ]
    },
    {
      "cell_type": "code",
      "execution_count": null,
      "metadata": {
        "id": "XgfzBHBG2160"
      },
      "outputs": [],
      "source": [
        "PATH = './cifar_net.pth'\n",
        "torch.save(net.state_dict(), PATH)"
      ]
    },
    {
      "cell_type": "markdown",
      "metadata": {
        "id": "TlpyETiz2160"
      },
      "source": [
        "See [here](https://pytorch.org/docs/stable/notes/serialization.html)\n",
        "for more details on saving PyTorch models.\n",
        "\n",
        "### 5. Test the network on the test data\n",
        "\n",
        "We have trained the network for two passes over the training dataset. We need to check what the network has learnt.\n",
        "\n",
        "We will check this by predicting the class label that the neural network outputs, and check it against the test data set. If the prediction is correct, we add the sample to the list of correct predictions.\n",
        "\n",
        "Let us display an image from the test set to get familiar.\n",
        "\n"
      ]
    },
    {
      "cell_type": "code",
      "execution_count": null,
      "metadata": {
        "colab": {
          "base_uri": "https://localhost:8080/",
          "height": 156
        },
        "id": "gBd5hzoL2161",
        "outputId": "db4f7ee1-f7b3-415f-a580-989bf9a77237"
      },
      "outputs": [
        {
          "output_type": "display_data",
          "data": {
            "text/plain": [
              "<Figure size 432x288 with 1 Axes>"
            ],
            "image/png": "[encoded data removed]"
          },
          "metadata": {
            "needs_background": "light"
          }
        },
        {
          "output_type": "stream",
          "name": "stdout",
          "text": [
            "Test Labels:  cat   ship  ship  plane\n"
          ]
        }
      ],
      "source": [
        "dataiter = iter(testloader)\n",
        "images, labels = next(dataiter)\n",
        "\n",
        "# print images\n",
        "imshow(torchvision.utils.make_grid(images))\n",
        "print('Test Labels: ', ' '.join(f'{classes[labels[j]]:5s}' for j in range(4)))"
      ]
    },
    {
      "cell_type": "markdown",
      "metadata": {
        "id": "YPjg5yaj2161"
      },
      "source": [
        "Next, let us learn how to load our saved model\n",
        "Note: saving and loading the model isn't necessary, we only did it to illustrate how to do so.\n",
        "\n"
      ]
    },
    {
      "cell_type": "code",
      "execution_count": null,
      "metadata": {
        "colab": {
          "base_uri": "https://localhost:8080/"
        },
        "id": "O2fQbZXM2161",
        "outputId": "932099c2-47f6-4199-8df0-6eecaa1ec388"
      },
      "outputs": [
        {
          "output_type": "execute_result",
          "data": {
            "text/plain": [
              "<All keys matched successfully>"
            ]
          },
          "metadata": {},
          "execution_count": 13
        }
      ],
      "source": [
        "net = Net()\n",
        "net.load_state_dict(torch.load(PATH))"
      ]
    },
    {
      "cell_type": "markdown",
      "metadata": {
        "id": "nWTLVfs72161"
      },
      "source": [
        "Okay, now let us see what the neural network thinks these examples above are:\n",
        "\n"
      ]
    },
    {
      "cell_type": "code",
      "execution_count": null,
      "metadata": {
        "id": "t89RisXU2161"
      },
      "outputs": [],
      "source": [
        "outputs = net(images)"
      ]
    },
    {
      "cell_type": "markdown",
      "metadata": {
        "id": "DkW_vHyv2161"
      },
      "source": [
        "The outputs are the energies for the 10 classes. The higher the energy for a class, the more the network thinks that the image is of the particular class. So, let's get the index of the highest energy.\n",
        "\n"
      ]
    },
    {
      "cell_type": "code",
      "execution_count": null,
      "metadata": {
        "colab": {
          "base_uri": "https://localhost:8080/"
        },
        "id": "Z0O33G2y2162",
        "outputId": "f405470d-e965-4e23-99c3-3042421011a9"
      },
      "outputs": [
        {
          "output_type": "stream",
          "name": "stdout",
          "text": [
            "Predicted:  cat   ship  ship  plane\n"
          ]
        }
      ],
      "source": [
        "_, predicted = torch.max(outputs, 1)\n",
        "\n",
        "print('Predicted: ', ' '.join(f'{classes[predicted[j]]:5s}'\n",
        "                              for j in range(4)))"
      ]
    },
    {
      "cell_type": "markdown",
      "metadata": {
        "id": "F3R4V2ul2162"
      },
      "source": [
        "The results are much better than the random guess (10%).\n",
        "\n",
        "Let us look at how the network performs on the whole dataset.\n",
        "\n"
      ]
    },
    {
      "cell_type": "code",
      "execution_count": null,
      "metadata": {
        "colab": {
          "base_uri": "https://localhost:8080/"
        },
        "id": "_QRTs3FV2162",
        "outputId": "b2e28b42-a643-463d-cf27-ec59e8f8820c"
      },
      "outputs": [
        {
          "output_type": "stream",
          "name": "stdout",
          "text": [
            "Accuracy of the network on the 10000 test images: 55 %\n"
          ]
        }
      ],
      "source": [
        "correct = 0\n",
        "total = 0\n",
        "# since we're not training, we don't need to calculate the gradients for our outputs\n",
        "with torch.no_grad():\n",
        "    for data in testloader:\n",
        "        images, labels = data\n",
        "        # calculate outputs by running images through the network\n",
        "        outputs = net(images)\n",
        "        # the class with the highest energy is what we choose as prediction\n",
        "        _, predicted = torch.max(outputs.data, 1)\n",
        "        total += labels.size(0)\n",
        "        correct += (predicted == labels).sum().item()\n",
        "\n",
        "print(f'Accuracy of the network on the 10000 test images: {100 * correct // total} %')"
      ]
    },
    {
      "cell_type": "markdown",
      "metadata": {
        "id": "vq3QVNuA2162"
      },
      "source": [
        "This is way better than chance, which is 10% accuracy (randomly picking a class out of 10 classes). Seems like the neural network learnt something.\n",
        "\n",
        "Let us check what classes performed well, and what classes did not perform well.\n",
        "\n"
      ]
    },
    {
      "cell_type": "code",
      "execution_count": null,
      "metadata": {
        "colab": {
          "base_uri": "https://localhost:8080/"
        },
        "id": "PfN5vqEe2162",
        "outputId": "f6b4e180-fd5a-4f54-f292-58d06c508719"
      },
      "outputs": [
        {
          "output_type": "stream",
          "name": "stdout",
          "text": [
            "Accuracy for class: plane is 63.9 %\n",
            "Accuracy for class: car   is 68.6 %\n",
            "Accuracy for class: bird  is 34.3 %\n",
            "Accuracy for class: cat   is 43.4 %\n",
            "Accuracy for class: deer  is 39.3 %\n",
            "Accuracy for class: dog   is 50.6 %\n",
            "Accuracy for class: frog  is 57.5 %\n",
            "Accuracy for class: horse is 72.2 %\n",
            "Accuracy for class: ship  is 70.8 %\n",
            "Accuracy for class: truck is 56.5 %\n"
          ]
        }
      ],
      "source": [
        "# prepare to count predictions for each class\n",
        "correct_pred = {classname: 0 for classname in classes}\n",
        "total_pred = {classname: 0 for classname in classes}\n",
        "\n",
        "# again no gradients needed\n",
        "with torch.no_grad():\n",
        "    for data in testloader:\n",
        "        images, labels = data\n",
        "        outputs = net(images)\n",
        "        _, predictions = torch.max(outputs, 1)\n",
        "        # collect the correct predictions for each class\n",
        "        for label, prediction in zip(labels, predictions):\n",
        "            if label == prediction:\n",
        "                correct_pred[classes[label]] += 1\n",
        "            total_pred[classes[label]] += 1\n",
        "\n",
        "\n",
        "# print accuracy for each class\n",
        "for classname, correct_count in correct_pred.items():\n",
        "    accuracy = 100 * float(correct_count) / total_pred[classname]\n",
        "    print(f'Accuracy for class: {classname:5s} is {accuracy:.1f} %')"
      ]
    },
    {
      "cell_type": "markdown",
      "metadata": {
        "id": "XP81oaTA2162"
      },
      "source": [
        "Okay, so what next?\n",
        "\n",
        "How do we run these neural networks on the GPU?\n",
        "\n",
        "## Training on GPU\n",
        "Just like how you transfer a Tensor onto the GPU, you transfer the neural net onto the GPU.\n",
        "\n",
        "Let's first define our device as the first visible cuda device if we have CUDA available.\n",
        "\n"
      ]
    },
    {
      "cell_type": "code",
      "execution_count": null,
      "metadata": {
        "colab": {
          "base_uri": "https://localhost:8080/"
        },
        "id": "nM15qiuP2162",
        "outputId": "da51e8a0-ecb9-4647-b876-08848b397e0b"
      },
      "outputs": [
        {
          "output_type": "stream",
          "name": "stdout",
          "text": [
            "cuda:0\n"
          ]
        }
      ],
      "source": [
        "device = torch.device('cuda:0' if torch.cuda.is_available() else 'cpu')\n",
        "\n",
        "# Assuming that we are on a CUDA machine, this should print a CUDA device:\n",
        "\n",
        "print(device)"
      ]
    },
    {
      "cell_type": "markdown",
      "metadata": {
        "id": "3tfpu9-W2162"
      },
      "source": [
        "The rest of this section assumes that ``device`` is a CUDA device.\n",
        "\n",
        "Then these methods will recursively go over all modules and convert their\n",
        "parameters and buffers to CUDA tensors:\n",
        "\n",
        ".. code:: python\n",
        "\n",
        "    net.to(device)\n",
        "\n",
        "\n",
        "Remember that you will have to send the inputs and targets at every step\n",
        "to the GPU too:\n",
        "\n",
        ".. code:: python\n",
        "\n",
        "        inputs, labels = data[0].to(device), data[1].to(device)\n",
        "\n",
        "Why don't I notice MASSIVE speedup compared to CPU? Because your network\n",
        "is really small.\n",
        "\n",
        "**Exercise:** Try increasing the width of your network (argument 2 of the first ``nn.Conv2d``, and argument 1 of the second ``nn.Conv2d`` – they need to be the same number), see what kind of speedup you can get.\n",
        "\n",
        "**Goals achieved**:\n",
        "\n",
        "- Understanding PyTorch's Tensor library and neural networks at a high level.\n",
        "- Train a small neural network to classify images\n",
        "\n",
        "## Training on multiple GPUs\n",
        "If you want to see even more MASSIVE speedup using all of your GPUs, please check out :doc:`data_parallel_tutorial`.\n",
        "\n",
        "## Where do we go next?\n",
        "\n",
        "-  `Train a state-of-the-art ResNet network`_\n",
        "-  `Train a state-of-the-art VGG`_\n",
        "-  `Train a state-of-the-art MobileNet`_\n",
        "-  `Train a state-of-the-art ResNet network on imagenet`_\n",
        "-  `More examples`_\n",
        "-  `More tutorials`_\n",
        "-  `Discuss PyTorch on the Forums`_\n",
        "\n"
      ]
    },
    {
      "cell_type": "markdown",
      "source": [
        "###OPTIMIZE, Traning with a new CNN model\n",
        "Based on the given notbook, I will import a pre-trained CNN architecture (ResNet18) and compare its performance with the simple architecture implemented in the notebook. I will also experiment with different parameters such as the number of hidden layers, number of nodes, epochs, batch sizes, and activation functions."
      ],
      "metadata": {
        "id": "WbOrV50ds_Cn"
      }
    },
    {
      "cell_type": "markdown",
      "source": [
        "###Define a ResNet18 model.\n",
        "First, let's import a pre-trained CNN model. In this case, I will use the ResNet18 model available in the torchvision library."
      ],
      "metadata": {
        "id": "JYLqANM8tJba"
      }
    },
    {
      "cell_type": "code",
      "source": [
        "import torch.nn as nn\n",
        "import torchvision.models as models\n",
        "import torch.optim as optim\n",
        "import torchvision\n",
        "import torchvision.transforms as transforms\n",
        "import torch.nn.functional as F\n",
        "from torchvision.models.resnet import ResNet18_Weights\n",
        "\n",
        "# Load pre-trained ResNet18 model\n",
        "resnet18 = models.resnet18(weights=ResNet18_Weights.IMAGENET1K_V1)\n",
        "\n",
        "# Modify the last layer to match the number of classes in CIFAR-10 dataset (10 classes)\n",
        "num_classes = 10\n",
        "resnet18.fc = nn.Linear(resnet18.fc.in_features, num_classes)"
      ],
      "metadata": {
        "colab": {
          "base_uri": "https://localhost:8080/"
        },
        "id": "WCdC9R_stSSm",
        "outputId": "b23b35b1-a45c-498f-a5b6-76dcab1c86aa"
      },
      "execution_count": null,
      "outputs": [
        {
          "output_type": "stream",
          "name": "stderr",
          "text": [
            "Downloading: \"https://download.pytorch.org/models/resnet18-f37072fd.pth\" to /root/.cache/torch/hub/checkpoints/resnet18-f37072fd.pth\n",
            "100%|██████████| 44.7M/44.7M [00:00<00:00, 213MB/s]\n"
          ]
        }
      ]
    },
    {
      "cell_type": "markdown",
      "source": [
        "###Define the number of nodes in the layers\n",
        "To modify the number of nodes in the ResNet18 model, we can change the number of output channels in the inital convolutional layer:"
      ],
      "metadata": {
        "id": "zQyoG1pyteWL"
      }
    },
    {
      "cell_type": "code",
      "source": [
        "resnet18.conv1 = nn.Conv2d(3, 64, kernel_size=7, stride=2, padding=3, bias=False)"
      ],
      "metadata": {
        "id": "0UNuXpue9WqL"
      },
      "execution_count": null,
      "outputs": []
    },
    {
      "cell_type": "code",
      "source": [
        "def train_model(model, trainloader, num_epochs, learning_rate):\n",
        "    device = torch.device(\"cuda:0\" if torch.cuda.is_available() else \"cpu\")\n",
        "    model.to(device)\n",
        "\n",
        "    criterion = nn.CrossEntropyLoss()\n",
        "    optimizer = optim.SGD(model.parameters(), lr=learning_rate, momentum=0.9, weight_decay=5e-4)\n",
        "\n",
        "    for epoch in range(num_epochs):\n",
        "        running_loss = 0.0\n",
        "        for i, data in enumerate(trainloader, 0):\n",
        "            inputs, labels = data\n",
        "            inputs, labels = inputs.to(device), labels.to(device)\n",
        "\n",
        "            optimizer.zero_grad()\n",
        "\n",
        "            outputs = model(inputs)\n",
        "            loss = criterion(outputs, labels)\n",
        "            loss.backward()\n",
        "            optimizer.step()\n",
        "\n",
        "            running_loss += loss.item()\n",
        "\n",
        "        print(f'Epoch {epoch + 1}/{num_epochs}, Loss: {running_loss / (i + 1):.4f}')\n",
        "\n",
        "    print('Finished training')\n",
        "    \n",
        "# Train the simple model (CIFAR-10 classification) with a different number of epochs\n",
        "# simple_model_epochs = 5\n",
        "# simple_model = Net();\n",
        "# print(f'Training simple model for {simple_model_epochs} epochs')\n",
        "# train_model(simple_model, trainloader, simple_model_epochs, learning_rate=0.001)\n",
        "\n",
        "# Train the ResNet18 model with a different number of epochs\n",
        "# resnet18_epochs = 10\n",
        "# print(f'\\nTraining ResNet18 model for {resnet18_epochs} epochs')\n",
        "# train_model(resnet18, trainloader, resnet18_epochs, learning_rate=0.1)"
      ],
      "metadata": {
        "id": "4nbdX6X49c-s"
      },
      "execution_count": null,
      "outputs": []
    },
    {
      "cell_type": "markdown",
      "source": [
        "##Train the net work with different parameters.\n",
        "We could train the modle with different epochs, activation function and so on.\n",
        "\n",
        "##Different number of epochs for the trainning function.\n",
        "We could train previous CIFAR10 the ResNet18 model with different numbers of epochs, for example 5, 10 and 20. And compare their performances.\n",
        "\n",
        "Notes: bigger number of epochs will take longer training time.\n",
        "\n",
        "Frist, let's define a train_model trainning function that accept different model, trainloader, num of epochs, and learning_rate.\n",
        "\n",
        "##Diffenet activation function.\n",
        "For the CNN model that we defined before, it could simple to define different activation function such as 'relu', 'sigmoid' or 'tanh' with the following code. Then we could pass the desired activation function as\n",
        "\n",
        "simple_model_relu = SimpleModel(activation_function='relu')\n",
        "simple_model_sigmoid = SimpleModel(activation_function='sigmoid')\n",
        "simple_model_tanh = SimpleModel(activation_function='tanh')"
      ],
      "metadata": {
        "id": "IFktpIdW9jW6"
      }
    },
    {
      "cell_type": "code",
      "source": [
        "class SimpleModel(nn.Module):\n",
        "    def __init__(self, activation_function='relu', num_classes=10):\n",
        "        super(SimpleModel, self).__init__()\n",
        "        self.conv1 = nn.Conv2d(3, 6, 5)\n",
        "        self.pool = nn.MaxPool2d(2, 2)\n",
        "        self.conv2 = nn.Conv2d(6, 16, 5)\n",
        "        self.fc1 = nn.Linear(16 * 5 * 5, 120)\n",
        "        self.fc2 = nn.Linear(120, 84)\n",
        "        self.fc3 = nn.Linear(84, num_classes)\n",
        "        \n",
        "        if activation_function == 'relu':\n",
        "            self.activation = nn.ReLU()\n",
        "        elif activation_function == 'sigmoid':\n",
        "            self.activation = nn.Sigmoid()\n",
        "        elif activation_function == 'tanh':\n",
        "            self.activation = nn.Tanh()\n",
        "        else:\n",
        "            raise ValueError(\"Invalid activation function. Supported options: 'relu', 'sigmoid', 'tanh'\")\n",
        "\n",
        "    def forward(self, x):\n",
        "        x = self.pool(self.activation(self.conv1(x)))\n",
        "        x = self.pool(self.activation(self.conv2(x)))\n",
        "        x = x.view(-1, 16 * 5 * 5)\n",
        "        x = self.activation(self.fc1(x))\n",
        "        x = self.activation(self.fc2(x))\n",
        "        x = self.fc3(x)\n",
        "        return x"
      ],
      "metadata": {
        "id": "sLklGpWC9ziX"
      },
      "execution_count": null,
      "outputs": []
    },
    {
      "cell_type": "markdown",
      "source": [
        "For the ResNet18, it uses only one activation function throughout the architecture, which is the ReLU activation function.\n",
        "\n",
        "Then let's train the new SimpleMode with 'sigmod' activation function with 5 epchos, and Res18Net model with default relu' activation function and 10 epchos."
      ],
      "metadata": {
        "id": "aTAgG4Jd96Em"
      }
    },
    {
      "cell_type": "code",
      "source": [
        "# Train the simple model (CIFAR-10 classification) with 'sigmoid' activation funation and 5 epochs\n",
        "simple_model_epochs = 5\n",
        "simple_model_sigmoid = SimpleModel(activation_function='sigmoid')\n",
        "print(f'Training simple model for {simple_model_epochs} epochs')\n",
        "train_model(simple_model_sigmoid, trainloader, simple_model_epochs, learning_rate=0.001)\n",
        "\n",
        "# Train the ResNet18 model with 10 epochs\n",
        "resnet18_epochs = 10\n",
        "print(f'\\nTraining ResNet18 model for {resnet18_epochs} epochs')\n",
        "train_model(resnet18, trainloader, resnet18_epochs, learning_rate=0.1)"
      ],
      "metadata": {
        "id": "Gbb7hD6X9989"
      },
      "execution_count": null,
      "outputs": []
    },
    {
      "cell_type": "markdown",
      "source": [
        "##Save the trained model\n",
        "Let save the simple_model with 'sigmoid' to the 'simple_model.pth'. And resnet18 model to resent18.pth."
      ],
      "metadata": {
        "id": "Bbi6KpJr-BDM"
      }
    },
    {
      "cell_type": "code",
      "source": [
        "# Save the simple_model\n",
        "torch.save(simple_model_sigmoid.state_dict(), 'simple_model.pth')\n",
        "\n",
        "# Save the resnet18 model\n",
        "torch.save(resnet18.state_dict(), 'resnet18.pth')"
      ],
      "metadata": {
        "id": "3eZqf-Xt-LKZ"
      },
      "execution_count": null,
      "outputs": []
    },
    {
      "cell_type": "markdown",
      "source": [
        "##Test the new train network and Res18Network on the test data.\n",
        "Load the modles from the trains before."
      ],
      "metadata": {
        "id": "0DQRtw0--RFm"
      }
    },
    {
      "cell_type": "code",
      "source": [
        "# Load the simple_model\n",
        "loaded_simple_model = SimpleModel()\n",
        "loaded_simple_model.load_state_dict(torch.load('simple_model.pth'))\n",
        "#loaded_simple_model.eval()  # Set to evaluation mode\n",
        "\n",
        "# Load the resnet18 model\n",
        "loaded_resnet18 = torchvision.models.resnet18(pretrained=False,  num_classes=num_classes)\n",
        "##loaded_resnet18.fc = nn.Linear(loaded_resnet18.fc.in_features, num_classes)\n",
        "loaded_resnet18.load_state_dict(torch.load('resnet18.pth'))\n",
        "#loaded_resnet18.eval()  # Set to evaluation mode"
      ],
      "metadata": {
        "id": "5QKcRPIE-ZP_"
      },
      "execution_count": null,
      "outputs": []
    },
    {
      "cell_type": "markdown",
      "source": [
        "###Predict with the CNN model with 'signmod' and 5 epchos"
      ],
      "metadata": {
        "id": "Gjsa4CUm-aXb"
      }
    },
    {
      "cell_type": "code",
      "source": [
        "# Print the true labels\n",
        "print('GroundTruth: ', ' '.join(f'{classes[labels[j]]:5s}' for j in range(4)))\n",
        "\n",
        "# Load the saved model and make predictions\n",
        "loaded_simple_model.eval()\n",
        "new_outputs = loaded_simple_model(images)\n",
        "\n",
        "_, predicted = torch.max(new_outputs, 1)\n",
        "print('Predicted with CNN-signmod: ', ' '.join(f'{classes[predicted[j]]:5s}' for j in range(4)))"
      ],
      "metadata": {
        "id": "9W8iZCwJ-iGk"
      },
      "execution_count": null,
      "outputs": []
    },
    {
      "cell_type": "code",
      "source": [
        "correct = 0\n",
        "total = 0\n",
        "\n",
        "with torch.no_grad():\n",
        "    for data in testloader:\n",
        "        images, labels = data\n",
        "        outputs = loaded_simple_model(images)\n",
        "        _, predicted = torch.max(outputs.data, 1)\n",
        "        total += labels.size(0)\n",
        "        correct += (predicted == labels).sum().item()\n",
        "\n",
        "print('Accuracy of the network on the 10000 test images: %d %%' % (100 * correct / total))"
      ],
      "metadata": {
        "id": "hH4kttzt-nRG"
      },
      "execution_count": null,
      "outputs": []
    },
    {
      "cell_type": "markdown",
      "source": [
        "###Predict with the ResNet18 model"
      ],
      "metadata": {
        "id": "3OLn60Ew-skT"
      }
    },
    {
      "cell_type": "code",
      "source": [
        "# Print the true labels\n",
        "print('GroundTruth: ', ' '.join(f'{classes[labels[j]]:5s}' for j in range(4)))\n",
        "\n",
        "# Make predictions using the loaded_resnet18 model\n",
        "outputs2 = loaded_resnet18(images)\n",
        "\n",
        "# Get the predicted class labels\n",
        "_, predicted2 = torch.max(outputs2, 1)\n",
        "\n",
        "print('Predicted with ResNet18: ', ' '.join('%5s' % classes[predicted2[j]] for j in range(4)))"
      ],
      "metadata": {
        "id": "t8npg4UP-vNY"
      },
      "execution_count": null,
      "outputs": []
    },
    {
      "cell_type": "code",
      "source": [
        "correct = 0\n",
        "total = 0\n",
        "\n",
        "with torch.no_grad():\n",
        "    for data in testloader:\n",
        "        images, labels = data\n",
        "        outputs = loaded_resnet18(images)\n",
        "        _, predicted = torch.max(outputs.data, 1)\n",
        "        total += labels.size(0)\n",
        "        correct += (predicted == labels).sum().item()\n",
        "\n",
        "print('Accuracy of the network on the 10000 test images: %d %%' % (100 * correct / total))"
      ],
      "metadata": {
        "id": "mx4OgHBw-2TF"
      },
      "execution_count": null,
      "outputs": []
    },
    {
      "cell_type": "markdown",
      "source": [
        "Let check the accuracy of the class of the two new Model:"
      ],
      "metadata": {
        "id": "_PcUnQ23_AKw"
      }
    },
    {
      "cell_type": "code",
      "source": [
        "# Function to compute accuracy for each class\n",
        "def compute_class_accuracies(model, testloader, classes):\n",
        "    # prepare to count predictions for each class\n",
        "    correct_pred = {classname: 0 for classname in classes}\n",
        "    total_pred = {classname: 0 for classname in classes}\n",
        "\n",
        "    # again no gradients needed\n",
        "    with torch.no_grad():\n",
        "        for data in testloader:\n",
        "            images, labels = data\n",
        "            outputs = model(images)\n",
        "            _, predictions = torch.max(outputs, 1)\n",
        "            # collect the correct predictions for each class\n",
        "            for label, prediction in zip(labels, predictions):\n",
        "                if label == prediction:\n",
        "                    correct_pred[classes[label]] += 1\n",
        "                total_pred[classes[label]] += 1\n",
        "\n",
        "    # print accuracy for each class\n",
        "    print(f'Accuracy for model: {model.__class__.__name__}')\n",
        "    for classname, correct_count in correct_pred.items():\n",
        "        accuracy = 100 * float(correct_count) / total_pred[classname]\n",
        "        print(f'  {classname:5s}: {accuracy:.1f} %')\n",
        "    print()\n",
        "\n",
        "# Compute accuracies for simple_model\n",
        "compute_class_accuracies(loaded_simple_model, testloader, classes)\n",
        "\n",
        "# Compute accuracies for ResNet18\n",
        "compute_class_accuracies(loaded_resnet18, testloader, classes)"
      ],
      "metadata": {
        "colab": {
          "base_uri": "https://localhost:8080/",
          "height": 240
        },
        "id": "-NZ2G00V_A11",
        "outputId": "6a534786-0fe9-4bcb-8176-b4ea1ddf0ca4"
      },
      "execution_count": null,
      "outputs": [
        {
          "output_type": "error",
          "ename": "NameError",
          "evalue": "ignored",
          "traceback": [
            "\u001b[0;31m---------------------------------------------------------------------------\u001b[0m",
            "\u001b[0;31mNameError\u001b[0m                                 Traceback (most recent call last)",
            "\u001b[0;32m<ipython-input-14-36c2aa4e88c7>\u001b[0m in \u001b[0;36m<cell line: 27>\u001b[0;34m()\u001b[0m\n\u001b[1;32m     25\u001b[0m \u001b[0;34m\u001b[0m\u001b[0m\n\u001b[1;32m     26\u001b[0m \u001b[0;31m# Compute accuracies for simple_model\u001b[0m\u001b[0;34m\u001b[0m\u001b[0;34m\u001b[0m\u001b[0m\n\u001b[0;32m---> 27\u001b[0;31m \u001b[0mcompute_class_accuracies\u001b[0m\u001b[0;34m(\u001b[0m\u001b[0mloaded_simple_model\u001b[0m\u001b[0;34m,\u001b[0m \u001b[0mtestloader\u001b[0m\u001b[0;34m,\u001b[0m \u001b[0mclasses\u001b[0m\u001b[0;34m)\u001b[0m\u001b[0;34m\u001b[0m\u001b[0;34m\u001b[0m\u001b[0m\n\u001b[0m\u001b[1;32m     28\u001b[0m \u001b[0;34m\u001b[0m\u001b[0m\n\u001b[1;32m     29\u001b[0m \u001b[0;31m# Compute accuracies for ResNet18\u001b[0m\u001b[0;34m\u001b[0m\u001b[0;34m\u001b[0m\u001b[0m\n",
            "\u001b[0;31mNameError\u001b[0m: name 'loaded_simple_model' is not defined"
          ]
        }
      ]
    },
    {
      "cell_type": "markdown",
      "source": [
        "###Conclusion\n",
        "Based on the current performance of the SimpleModel and ResNet models, it appears that there is an issue with the training process or the evaluation of the models, as they are only predicting a single class.\n",
        "\n",
        "Here are some suggestions for the future:\n",
        "\n",
        "1. Verify the training process: Make sure that the loss values during training are decreasing and that the models are converging. If the loss values are not decreasing, adjust the learning rate, batch size, and number of epochs.\n",
        "\n",
        "2. Inspect the data: Ensure that the data is properly loaded and preprocessed. Verify that both the training and test datasets are correctly split, shuffled, and normalized. Also, make sure there are no issues with the dataset's labels.\n",
        "\n",
        "3. Experiment with hyperparameters: Try adjusting the learning rate, batch size, number of epochs, and other hyperparameters. This may improve the model's performance on the test set.\n",
        "\n",
        "4. Model architecture: For the SimpleModel, consider experimenting with different architectures or adding more layers to improve its performance. For the ResNet model, make sure the pretrained model is properly fine-tuned to the CIFAR-10 dataset.\n",
        "\n",
        "5. Regularization: If overfitting is observed, consider adding dropout layers or other regularization techniques to the models to help them generalize better to the test data.\n",
        "\n",
        "6. Data augmentation: To improve the model's generalization, you can apply data augmentation techniques, such as random rotations, translations, and flips, to the training dataset.\n",
        "\n",
        "7. Monitor the performance: Keep track of the performance metrics, such as accuracy, precision, recall, and F1-score, to gain insights into the model's behavior and potential areas for improvement.\n",
        "\n",
        "Finally, remember that deep learning model development is an iterative process. We may need to experiment with different combinations of hyperparameters, architectures, and techniques to achieve the best performance on the task at hand."
      ],
      "metadata": {
        "id": "5fYShuiI_Goe"
      }
    }
  ],
  "metadata": {
    "kernelspec": {
      "display_name": "Python 3",
      "language": "python",
      "name": "python3"
    },
    "language_info": {
      "codemirror_mode": {
        "name": "ipython",
        "version": 3
      },
      "file_extension": ".py",
      "mimetype": "text/x-python",
      "name": "python",
      "nbconvert_exporter": "python",
      "pygments_lexer": "ipython3",
      "version": "3.10.9"
    },
    "colab": {
      "provenance": [],
      "include_colab_link": true
    },
    "accelerator": "GPU",
    "gpuClass": "standard",
    "widgets": {
      "application/vnd.jupyter.widget-state+json": {
        "7295dac00f6845f7a82261cdb31af9cc": {
          "model_module": "@jupyter-widgets/controls",
          "model_name": "HBoxModel",
          "model_module_version": "1.5.0",
          "state": {
            "_dom_classes": [],
            "_model_module": "@jupyter-widgets/controls",
            "_model_module_version": "1.5.0",
            "_model_name": "HBoxModel",
            "_view_count": null,
            "_view_module": "@jupyter-widgets/controls",
            "_view_module_version": "1.5.0",
            "_view_name": "HBoxView",
            "box_style": "",
            "children": [
              "IPY_MODEL_1b3eebf6af0c45fbbbb88aa96f8d9011",
              "IPY_MODEL_fb6c8be5632f4c1eabcc49771fafbe87",
              "IPY_MODEL_041de5fa72104f2fb98a8576dd19fa78"
            ],
            "layout": "IPY_MODEL_133510a9bde94f2d93ea22090d089136"
          }
        },
        "1b3eebf6af0c45fbbbb88aa96f8d9011": {
          "model_module": "@jupyter-widgets/controls",
          "model_name": "HTMLModel",
          "model_module_version": "1.5.0",
          "state": {
            "_dom_classes": [],
            "_model_module": "@jupyter-widgets/controls",
            "_model_module_version": "1.5.0",
            "_model_name": "HTMLModel",
            "_view_count": null,
            "_view_module": "@jupyter-widgets/controls",
            "_view_module_version": "1.5.0",
            "_view_name": "HTMLView",
            "description": "",
            "description_tooltip": null,
            "layout": "IPY_MODEL_c6129bc1fede4e13a362249aa9ff5e88",
            "placeholder": "​",
            "style": "IPY_MODEL_3f4851abbaaa4f9480521dbb899640ee",
            "value": "100%"
          }
        },
        "fb6c8be5632f4c1eabcc49771fafbe87": {
          "model_module": "@jupyter-widgets/controls",
          "model_name": "FloatProgressModel",
          "model_module_version": "1.5.0",
          "state": {
            "_dom_classes": [],
            "_model_module": "@jupyter-widgets/controls",
            "_model_module_version": "1.5.0",
            "_model_name": "FloatProgressModel",
            "_view_count": null,
            "_view_module": "@jupyter-widgets/controls",
            "_view_module_version": "1.5.0",
            "_view_name": "ProgressView",
            "bar_style": "success",
            "description": "",
            "description_tooltip": null,
            "layout": "IPY_MODEL_20565e1531e24cc9b102668ca85dc9c6",
            "max": 170498071,
            "min": 0,
            "orientation": "horizontal",
            "style": "IPY_MODEL_65d9907cd0de4716884ed11fe3e4e029",
            "value": 170498071
          }
        },
        "041de5fa72104f2fb98a8576dd19fa78": {
          "model_module": "@jupyter-widgets/controls",
          "model_name": "HTMLModel",
          "model_module_version": "1.5.0",
          "state": {
            "_dom_classes": [],
            "_model_module": "@jupyter-widgets/controls",
            "_model_module_version": "1.5.0",
            "_model_name": "HTMLModel",
            "_view_count": null,
            "_view_module": "@jupyter-widgets/controls",
            "_view_module_version": "1.5.0",
            "_view_name": "HTMLView",
            "description": "",
            "description_tooltip": null,
            "layout": "IPY_MODEL_cb87c32cab4c465e8ee6875afab14ac8",
            "placeholder": "​",
            "style": "IPY_MODEL_300c53d009db4db1abc5a27313601066",
            "value": " 170498071/170498071 [00:01&lt;00:00, 109095134.89it/s]"
          }
        },
        "133510a9bde94f2d93ea22090d089136": {
          "model_module": "@jupyter-widgets/base",
          "model_name": "LayoutModel",
          "model_module_version": "1.2.0",
          "state": {
            "_model_module": "@jupyter-widgets/base",
            "_model_module_version": "1.2.0",
            "_model_name": "LayoutModel",
            "_view_count": null,
            "_view_module": "@jupyter-widgets/base",
            "_view_module_version": "1.2.0",
            "_view_name": "LayoutView",
            "align_content": null,
            "align_items": null,
            "align_self": null,
            "border": null,
            "bottom": null,
            "display": null,
            "flex": null,
            "flex_flow": null,
            "grid_area": null,
            "grid_auto_columns": null,
            "grid_auto_flow": null,
            "grid_auto_rows": null,
            "grid_column": null,
            "grid_gap": null,
            "grid_row": null,
            "grid_template_areas": null,
            "grid_template_columns": null,
            "grid_template_rows": null,
            "height": null,
            "justify_content": null,
            "justify_items": null,
            "left": null,
            "margin": null,
            "max_height": null,
            "max_width": null,
            "min_height": null,
            "min_width": null,
            "object_fit": null,
            "object_position": null,
            "order": null,
            "overflow": null,
            "overflow_x": null,
            "overflow_y": null,
            "padding": null,
            "right": null,
            "top": null,
            "visibility": null,
            "width": null
          }
        },
        "c6129bc1fede4e13a362249aa9ff5e88": {
          "model_module": "@jupyter-widgets/base",
          "model_name": "LayoutModel",
          "model_module_version": "1.2.0",
          "state": {
            "_model_module": "@jupyter-widgets/base",
            "_model_module_version": "1.2.0",
            "_model_name": "LayoutModel",
            "_view_count": null,
            "_view_module": "@jupyter-widgets/base",
            "_view_module_version": "1.2.0",
            "_view_name": "LayoutView",
            "align_content": null,
            "align_items": null,
            "align_self": null,
            "border": null,
            "bottom": null,
            "display": null,
            "flex": null,
            "flex_flow": null,
            "grid_area": null,
            "grid_auto_columns": null,
            "grid_auto_flow": null,
            "grid_auto_rows": null,
            "grid_column": null,
            "grid_gap": null,
            "grid_row": null,
            "grid_template_areas": null,
            "grid_template_columns": null,
            "grid_template_rows": null,
            "height": null,
            "justify_content": null,
            "justify_items": null,
            "left": null,
            "margin": null,
            "max_height": null,
            "max_width": null,
            "min_height": null,
            "min_width": null,
            "object_fit": null,
            "object_position": null,
            "order": null,
            "overflow": null,
            "overflow_x": null,
            "overflow_y": null,
            "padding": null,
            "right": null,
            "top": null,
            "visibility": null,
            "width": null
          }
        },
        "3f4851abbaaa4f9480521dbb899640ee": {
          "model_module": "@jupyter-widgets/controls",
          "model_name": "DescriptionStyleModel",
          "model_module_version": "1.5.0",
          "state": {
            "_model_module": "@jupyter-widgets/controls",
            "_model_module_version": "1.5.0",
            "_model_name": "DescriptionStyleModel",
            "_view_count": null,
            "_view_module": "@jupyter-widgets/base",
            "_view_module_version": "1.2.0",
            "_view_name": "StyleView",
            "description_width": ""
          }
        },
        "20565e1531e24cc9b102668ca85dc9c6": {
          "model_module": "@jupyter-widgets/base",
          "model_name": "LayoutModel",
          "model_module_version": "1.2.0",
          "state": {
            "_model_module": "@jupyter-widgets/base",
            "_model_module_version": "1.2.0",
            "_model_name": "LayoutModel",
            "_view_count": null,
            "_view_module": "@jupyter-widgets/base",
            "_view_module_version": "1.2.0",
            "_view_name": "LayoutView",
            "align_content": null,
            "align_items": null,
            "align_self": null,
            "border": null,
            "bottom": null,
            "display": null,
            "flex": null,
            "flex_flow": null,
            "grid_area": null,
            "grid_auto_columns": null,
            "grid_auto_flow": null,
            "grid_auto_rows": null,
            "grid_column": null,
            "grid_gap": null,
            "grid_row": null,
            "grid_template_areas": null,
            "grid_template_columns": null,
            "grid_template_rows": null,
            "height": null,
            "justify_content": null,
            "justify_items": null,
            "left": null,
            "margin": null,
            "max_height": null,
            "max_width": null,
            "min_height": null,
            "min_width": null,
            "object_fit": null,
            "object_position": null,
            "order": null,
            "overflow": null,
            "overflow_x": null,
            "overflow_y": null,
            "padding": null,
            "right": null,
            "top": null,
            "visibility": null,
            "width": null
          }
        },
        "65d9907cd0de4716884ed11fe3e4e029": {
          "model_module": "@jupyter-widgets/controls",
          "model_name": "ProgressStyleModel",
          "model_module_version": "1.5.0",
          "state": {
            "_model_module": "@jupyter-widgets/controls",
            "_model_module_version": "1.5.0",
            "_model_name": "ProgressStyleModel",
            "_view_count": null,
            "_view_module": "@jupyter-widgets/base",
            "_view_module_version": "1.2.0",
            "_view_name": "StyleView",
            "bar_color": null,
            "description_width": ""
          }
        },
        "cb87c32cab4c465e8ee6875afab14ac8": {
          "model_module": "@jupyter-widgets/base",
          "model_name": "LayoutModel",
          "model_module_version": "1.2.0",
          "state": {
            "_model_module": "@jupyter-widgets/base",
            "_model_module_version": "1.2.0",
            "_model_name": "LayoutModel",
            "_view_count": null,
            "_view_module": "@jupyter-widgets/base",
            "_view_module_version": "1.2.0",
            "_view_name": "LayoutView",
            "align_content": null,
            "align_items": null,
            "align_self": null,
            "border": null,
            "bottom": null,
            "display": null,
            "flex": null,
            "flex_flow": null,
            "grid_area": null,
            "grid_auto_columns": null,
            "grid_auto_flow": null,
            "grid_auto_rows": null,
            "grid_column": null,
            "grid_gap": null,
            "grid_row": null,
            "grid_template_areas": null,
            "grid_template_columns": null,
            "grid_template_rows": null,
            "height": null,
            "justify_content": null,
            "justify_items": null,
            "left": null,
            "margin": null,
            "max_height": null,
            "max_width": null,
            "min_height": null,
            "min_width": null,
            "object_fit": null,
            "object_position": null,
            "order": null,
            "overflow": null,
            "overflow_x": null,
            "overflow_y": null,
            "padding": null,
            "right": null,
            "top": null,
            "visibility": null,
            "width": null
          }
        },
        "300c53d009db4db1abc5a27313601066": {
          "model_module": "@jupyter-widgets/controls",
          "model_name": "DescriptionStyleModel",
          "model_module_version": "1.5.0",
          "state": {
            "_model_module": "@jupyter-widgets/controls",
            "_model_module_version": "1.5.0",
            "_model_name": "DescriptionStyleModel",
            "_view_count": null,
            "_view_module": "@jupyter-widgets/base",
            "_view_module_version": "1.2.0",
            "_view_name": "StyleView",
            "description_width": ""
          }
        }
      }
    }
  },
  "nbformat": 4,
  "nbformat_minor": 0
}